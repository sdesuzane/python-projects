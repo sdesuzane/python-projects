{
 "cells": [
  {
   "cell_type": "markdown",
   "id": "3536f00e",
   "metadata": {},
   "source": [
    "# Automatização de Processos"
   ]
  },
  {
   "cell_type": "code",
   "execution_count": null,
   "id": "0014bb50",
   "metadata": {},
   "outputs": [],
   "source": [
    "!pip install yfinance\n",
    "import yfinance as yf\n",
    "ticker = input('Digite o código da ação: ')\n",
    "dados = yf.Ticker(ticker).history(\"6mo\")\n",
    "# Selecionando apenas a coluna de Fechamento (Close)\n",
    "fechamento = dados.Close\n",
    "fechamento.plot()\n",
    "# Gerando as estatísticas\n",
    "maxima = fechamento.max()\n",
    "minima = fechamento.min()\n",
    "atual = fechamento[-1]\n",
    "\n",
    "print(maxima)\n",
    "print(minima)\n",
    "print(atual)\n",
    "# Enviando e-mail de forma automática\n",
    "!pip install pyautogui\n",
    "!pip install pyperclip\n",
    "import pyautogui\n",
    "import pyperclip\n",
    "pyautogui.PAUSE = 3\n",
    "pyautogui.hotkey(\"ctrl\", \"t\")\n",
    "pyperclip.copy(\"www.gmail.com\")\n",
    "pyautogui.hotkey(\"ctrl\", \"v\")\n",
    "pyautogui.hotkey(\"enter\")\n",
    "pyautogui.click(x=102, y=268)\n",
    "pyperclip.copy(\"suzaane97@gmail.com\")\n",
    "pyautogui.hotkey(\"ctrl\", \"v\")\n",
    "pyautogui.hotkey(\"tab\")\n",
    "pyperclip.copy(\"Análises Diárias\")\n",
    "pyautogui.hotkey(\"ctrl\", \"v\")\n",
    "pyautogui.hotkey(\"tab\")\n",
    "mensagem = f\"\"\"\n",
    "Bom dia,\n",
    "\n",
    "Segue abaixo as análises da ação {ticker} dos últimos seis meses:\n",
    "\n",
    "Cotação máxima: R${maxima}\n",
    "Cotação mínima: R${minima}\n",
    "Cotação atual: R${atual}\n",
    "\n",
    "Atte. Maria Suzane.\n",
    "\"\"\"\n",
    "pyperclip.copy(mensagem)\n",
    "pyautogui.hotkey(\"ctrl\", \"v\")\n",
    "pyautogui.click(x=1226, y=980)\n",
    "pyautogui.hotkey(\"ctrl\", \"f4\")"
   ]
  }
 ],
 "metadata": {
  "kernelspec": {
   "display_name": "Python 3 (ipykernel)",
   "language": "python",
   "name": "python3"
  },
  "language_info": {
   "codemirror_mode": {
    "name": "ipython",
    "version": 3
   },
   "file_extension": ".py",
   "mimetype": "text/x-python",
   "name": "python",
   "nbconvert_exporter": "python",
   "pygments_lexer": "ipython3",
   "version": "3.11.4"
  }
 },
 "nbformat": 4,
 "nbformat_minor": 5
}
