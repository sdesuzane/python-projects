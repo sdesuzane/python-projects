{
 "cells": [
  {
   "cell_type": "markdown",
   "id": "adc77607",
   "metadata": {},
   "source": [
    "# Projeto 1 - Sistema de Orçamento"
   ]
  },
  {
   "cell_type": "code",
   "execution_count": null,
   "id": "0a6ff326",
   "metadata": {},
   "outputs": [],
   "source": [
    "# desenvolvendo as entradas de dados\n",
    "projeto = input(\"Digite a descrição do projeto: \")\n",
    "horas_estimadas = input(\"Digite o total de horas estimadas: \")\n",
    "valor_hora = input(\"Digite o valor da hora trabalhada: \")\n",
    "prazo_estimado = input(\"Digite o prazo estimado: \")\n",
    "# calculo do valor total estimado\n",
    "valor_total_estimado = int(horas_estimadas) * int(valor_hora)\n",
    "print(valor_total_estimado)"
   ]
  },
  {
   "cell_type": "code",
   "execution_count": null,
   "id": "8b5d52f7",
   "metadata": {},
   "outputs": [],
   "source": [
    "# instalando a biblioteca\n",
    "!pip install fpdf\n",
    "# importando a biblioteca\n",
    "from fpdf import FPDF"
   ]
  },
  {
   "cell_type": "code",
   "execution_count": 22,
   "id": "95c6ded2",
   "metadata": {},
   "outputs": [],
   "source": [
    "# criando um arquivo PDF\n",
    "pdf = FPDF()\n",
    "pdf.add_page()\n",
    "pdf.set_font(\"Arial\")\n",
    "# utilizando um template\n",
    "pdf.image(\"template.png\", x=0, y=0 )\n",
    "# inserindo os dados do projeto\n",
    "pdf.text(115, 145, projeto)\n",
    "pdf.text(115, 160, horas_estimadas)\n",
    "pdf.text(115, 175, valor_hora)\n",
    "pdf.text(115, 190, prazo_estimado)\n",
    "pdf.text(115, 205, str(valor_total_estimado))"
   ]
  },
  {
   "cell_type": "code",
   "execution_count": null,
   "id": "4e05949b",
   "metadata": {},
   "outputs": [],
   "source": [
    "# salvando o arquivo\n",
    "pdf.output(\"orçamento.pdf\")\n",
    "print(\"Orçamento gerado com sucesso!\")"
   ]
  }
 ],
 "metadata": {
  "kernelspec": {
   "display_name": "Python 3 (ipykernel)",
   "language": "python",
   "name": "python3"
  },
  "language_info": {
   "codemirror_mode": {
    "name": "ipython",
    "version": 3
   },
   "file_extension": ".py",
   "mimetype": "text/x-python",
   "name": "python",
   "nbconvert_exporter": "python",
   "pygments_lexer": "ipython3",
   "version": "3.11.4"
  }
 },
 "nbformat": 4,
 "nbformat_minor": 5
}
